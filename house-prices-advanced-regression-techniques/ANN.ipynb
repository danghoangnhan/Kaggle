{
 "cells": [
  {
   "cell_type": "code",
   "execution_count": null,
   "metadata": {
    "collapsed": true
   },
   "outputs": [],
   "source": [
    "# Importing the Keras libraries and packages\n",
    "from keras.models import Sequential\n",
    "from keras.layers import Dense\n",
    "from keras import backend as K\n",
    "from .dataPreprocessing import  generatedData\n",
    "\n",
    "def root_mean_squared_error(y_true, y_pred):\n",
    "        return K.sqrt(K.mean(K.square(y_pred - y_true)))\n",
    "\n",
    "def generateModel():\n",
    "    # Initialising the ANN\n",
    "    model = Sequential()\n",
    "    # Adding the input layer and the first hidden layer\n",
    "    model.add(Dense(output_dim = 50,\n",
    "                         init = 'he_uniform',\n",
    "                         activation='relu',\n",
    "                         input_dim = 174))\n",
    "\n",
    "    # Adding the second hidden layer\n",
    "    model.add(Dense(output_dim = 25,\n",
    "                         init = 'he_uniform',\n",
    "                         activation='relu'))\n",
    "    # Adding the third hidden layer\n",
    "    model.add(Dense(output_dim = 50,\n",
    "                         init = 'he_uniform',\n",
    "                         activation='relu'))\n",
    "    # Adding the output layer\n",
    "    model.add(Dense(output_dim = 1,\n",
    "                         init = 'he_uniform'))\n",
    "    return  model\n",
    "\n",
    "# Compiling the ANN\n",
    "classifier = generateModel()\n",
    "classifier.compile(loss=root_mean_squared_error,optimizer='Adamax')\n",
    "\n",
    "# Fitting the ANN to the Training set\n",
    "X_train,y_train = generatedData()\n",
    "X_test,y_test = generatedData()\n",
    "\n",
    "model_history=classifier.fit(X_train.values,\n",
    "                             y_train.values,\n",
    "                             validation_split=0.20,\n",
    "                             batch_size = 10,\n",
    "                             nb_epoch = 1000)\n",
    "\n",
    "ann_pred=classifier.predict(df_Test.drop(['SalePrice'],axis=1).values)\n"
   ]
  }
 ],
 "metadata": {
  "kernelspec": {
   "display_name": "Python 3 (ipykernel)",
   "language": "python",
   "name": "python3"
  },
  "language_info": {
   "codemirror_mode": {
    "name": "ipython",
    "version": 3
   },
   "file_extension": ".py",
   "mimetype": "text/x-python",
   "name": "python",
   "nbconvert_exporter": "python",
   "pygments_lexer": "ipython3",
   "version": "3.10.10"
  }
 },
 "nbformat": 4,
 "nbformat_minor": 1
}